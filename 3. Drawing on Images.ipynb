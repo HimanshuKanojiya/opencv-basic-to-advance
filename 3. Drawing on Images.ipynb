{
 "cells": [
  {
   "cell_type": "code",
   "execution_count": 1,
   "metadata": {},
   "outputs": [],
   "source": [
    "#Importing Required libraries\n",
    "import cv2\n",
    "import numpy as np\n",
    "import matplotlib.pyplot as plt"
   ]
  },
  {
   "cell_type": "markdown",
   "metadata": {},
   "source": [
    "### Creating white image using numpy"
   ]
  },
  {
   "cell_type": "code",
   "execution_count": 2,
   "metadata": {},
   "outputs": [],
   "source": [
    "def createWhiteImage(width, height, colorchannel):\n",
    "    #This function is to create white image\n",
    "    #It takes 3 arguments:\n",
    "    #1 parameter: width\n",
    "    #2 parameter: height\n",
    "    #3 colorchannel: for color image, give 3 or 0 for black and white image\n",
    "    \n",
    "    if colorchannel == 0:\n",
    "        #function will create a matrix which contains 1, and then mutiply all values by 255\n",
    "        whiteImage = np.ones((width,height), dtype=np.uint8) * 255 \n",
    "        \n",
    "    elif colorchannel == 3:\n",
    "        #function will create a matrix which contains 1, and then mutiply all values by 255\n",
    "        whiteImage = np.ones((width,height,colorchannel), dtype=np.uint8) * 255\n",
    "        \n",
    "    return whiteImage"
   ]
  },
  {
   "cell_type": "code",
   "execution_count": 3,
   "metadata": {},
   "outputs": [
    {
     "data": {
      "image/png": "[encoded data removed]",
      "text/plain": [
       "<Figure size 360x360 with 1 Axes>"
      ]
     },
     "metadata": {
      "needs_background": "light"
     },
     "output_type": "display_data"
    }
   ],
   "source": [
    "def showImageCordinates(image = None):\n",
    "    #This function is to display image using matplotlib library\n",
    "    #So that we can display an image white x and y coordinates\n",
    "    \n",
    "    if image is None:\n",
    "        return \"No Image Supplied\"\n",
    "    \n",
    "    else:\n",
    "        plt.figure(figsize=(5,5))\n",
    "        plt.imshow(image, cmap=\"gray\")\n",
    "        plt.show()\n",
    "        \n",
    "showImageCordinates(createWhiteImage(500,500,3))"
   ]
  },
  {
   "cell_type": "markdown",
   "metadata": {},
   "source": [
    "### Drawing Rectangle in white image\n",
    "- To draw a rectangle in image, we use cv2.rectangle function, and pass these values:\n",
    "  - First Parameter is image where rectangle will draw\n",
    "  - Second Parameter is top left (x,y) coordinates\n",
    "  - Third Parameter is bottom right (x,y) coordinates\n",
    "  - Fourth Parameter is for color (b,g,r) - Min intensity is 0 and Max intensity is 255\n",
    "  - Fifth Parameter is thickness of shape, -1 will fill shape, and positive values will thick boundaries"
   ]
  },
  {
   "cell_type": "code",
   "execution_count": 4,
   "metadata": {},
   "outputs": [],
   "source": [
    "whiteImage = createWhiteImage(500,500,3) #Creating white image\n",
    "cv2.rectangle(whiteImage, (100,100),(200,200), (0,255,0), 2) #function to draw rectangle in white image\n",
    "cv2.imshow(\"Rectangle\", whiteImage) #Creating GUI window named Rectangle to show image\n",
    "cv2.waitKey(0) #Hold GUI window until you close it manually\n",
    "cv2.destroyAllWindows() #Once GUI window is closed, then this function will destroy the GUI window and remove the window from screen"
   ]
  },
  {
   "cell_type": "code",
   "execution_count": 5,
   "metadata": {},
   "outputs": [],
   "source": [
    "#Filling rectangle shape\n",
    "\n",
    "whiteImage = createWhiteImage(500,500,3) #Creating white image\n",
    "cv2.rectangle(whiteImage, (100,100),(200,200), (0,255,0), -1) #function to draw rectangle in white image\n",
    "cv2.imshow(\"Rectangle\", whiteImage) #Creating GUI window named Rectangle to show image\n",
    "cv2.waitKey(0) #Hold GUI window until you close it manually\n",
    "cv2.destroyAllWindows() #Once GUI window is closed, then this function will destroy the GUI window and remove the window from screen"
   ]
  },
  {
   "cell_type": "markdown",
   "metadata": {},
   "source": [
    "### Drawing Circle in white image\n",
    "\n",
    "- To draw a circle in image, we use cv2.circle function, and pass these values:\n",
    "  - First Parameter is image where circle will draw\n",
    "  - Second Parameter is coordinates (x,y) centre of circle\n",
    "  - Third Parameter is radius of circle\n",
    "  - Fourth Parameter is for color (b,g,r) - Min intensity is 0 and Max intensity is 255\n",
    "  - Fifth Parameter is thickness of shape, -1 will fill shape, and positive values will thick boundaries"
   ]
  },
  {
   "cell_type": "code",
   "execution_count": 6,
   "metadata": {},
   "outputs": [],
   "source": [
    "whiteImage = createWhiteImage(500,500,3) #Creating white image\n",
    "cv2.circle(whiteImage, (whiteImage.shape[0]//2, whiteImage.shape[1]//2), 25, (0,255,0), 2) #function to draw circle in white image\n",
    "cv2.imshow(\"Circle Image\", whiteImage) #Creating GUI window named Circle Image to show image\n",
    "cv2.waitKey(0) #Hold GUI window until you close it manually\n",
    "cv2.destroyAllWindows() #Once GUI window is closed, then this function will destroy the GUI window and remove the window from screen"
   ]
  },
  {
   "cell_type": "code",
   "execution_count": 7,
   "metadata": {},
   "outputs": [],
   "source": [
    "#Filling Circle\n",
    "\n",
    "whiteImage = createWhiteImage(500,500,3) #Creating white image\n",
    "cv2.circle(whiteImage, (whiteImage.shape[0]//2, whiteImage.shape[1]//2), 25, (0,255,0), -1) #function to draw circle in white image\n",
    "cv2.imshow(\"Circle Image\", whiteImage) #Creating GUI window named Circle Image to show image\n",
    "cv2.waitKey(0) #Hold GUI window until you close it manually\n",
    "cv2.destroyAllWindows() #Once GUI window is closed, then this function will destroy the GUI window and remove the window from screen"
   ]
  },
  {
   "cell_type": "markdown",
   "metadata": {},
   "source": [
    "### Drawing Line in Image\n",
    "\n",
    "- To draw a line in image, we use cv2.line function, and pass these values:\n",
    "  - First Parameter is image where line will draw\n",
    "  - Second Parameter is starting (x,y) coordinates\n",
    "  - Third Parameter is ending (x,y) coordinates\n",
    "  - Fourth Parameter is for color (b,g,r) - Min intensity is 0 and Max intensity is 255\n",
    "  - Fifth Parameter is thickness of shape, positive values will thick boundaries"
   ]
  },
  {
   "cell_type": "code",
   "execution_count": 8,
   "metadata": {},
   "outputs": [],
   "source": [
    "whiteImage = createWhiteImage(500,500,3) #Creating white image\n",
    "cv2.line(whiteImage, (0,500), (400,100), (0,255,0), 2) #function to draw line in white image\n",
    "cv2.imshow(\"Line\", whiteImage) #Creating GUI window named Line to show image\n",
    "cv2.waitKey(0) #Hold GUI window until you close it manually\n",
    "cv2.destroyAllWindows() #Once GUI window is closed, then this function will destroy the GUI window and remove the window from screen"
   ]
  },
  {
   "cell_type": "markdown",
   "metadata": {},
   "source": [
    "### Wrtiing Text in Image\n",
    "\n",
    "- To write text in image, we use cv2.putText function, and pass these values:\n",
    "  - First Parameter is image where text will write\n",
    "  - Second Parameter is text which we want to write on image\n",
    "  - Third Parameter is starting (x,y) coordinates where text will start to write\n",
    "  - Fourth Parameter is Font type of text\n",
    "  - Fifth Parameter is for font scale, more big float value will increase font size\n",
    "  - Sixth Parameter is for text color (b,g,r) - Min itensity 0 and Max intensity 255\n",
    "  - Seventh Parameter is thickness of shape, positive values will thick text"
   ]
  },
  {
   "cell_type": "code",
   "execution_count": 9,
   "metadata": {},
   "outputs": [],
   "source": [
    "whiteImage = createWhiteImage(500,500,3) #Creating white image\n",
    "cv2.putText(whiteImage, \"Himanshu\", (0,400), cv2.FONT_HERSHEY_COMPLEX, 1.4, (0,255,0), 2) #function to write text in white image\n",
    "cv2.imshow(\"TextImage\", whiteImage) #Creating GUI window named TextImage to show image\n",
    "cv2.waitKey(0) #Hold GUI window until you close it manually\n",
    "cv2.destroyAllWindows() #Once GUI window is closed, then this function will destroy the GUI window and remove the window from screen"
   ]
  },
  {
   "cell_type": "code",
   "execution_count": 10,
   "metadata": {},
   "outputs": [
    {
     "name": "stdout",
     "output_type": "stream",
     "text": [
      "['FONT_HERSHEY_COMPLEX', 'FONT_HERSHEY_COMPLEX_SMALL', 'FONT_HERSHEY_DUPLEX', 'FONT_HERSHEY_PLAIN', 'FONT_HERSHEY_SCRIPT_COMPLEX', 'FONT_HERSHEY_SCRIPT_SIMPLEX', 'FONT_HERSHEY_SIMPLEX', 'FONT_HERSHEY_TRIPLEX', 'FONT_ITALIC', 'QT_FONT_BLACK', 'QT_FONT_BOLD', 'QT_FONT_DEMIBOLD', 'QT_FONT_LIGHT', 'QT_FONT_NORMAL']\n"
     ]
    }
   ],
   "source": [
    "# Available font Faces/types in opencv\n",
    "\n",
    "fontfaces = [i for i in vars(cv2) if \"FONT_\" in i]\n",
    "\n",
    "print(fontfaces)"
   ]
  },
  {
   "cell_type": "code",
   "execution_count": null,
   "metadata": {},
   "outputs": [],
   "source": []
  }
 ],
 "metadata": {
  "kernelspec": {
   "display_name": "Python 3",
   "language": "python",
   "name": "python3"
  },
  "language_info": {
   "codemirror_mode": {
    "name": "ipython",
    "version": 3
   },
   "file_extension": ".py",
   "mimetype": "text/x-python",
   "name": "python",
   "nbconvert_exporter": "python",
   "pygments_lexer": "ipython3",
   "version": "3.7.5"
  }
 },
 "nbformat": 4,
 "nbformat_minor": 4
}
