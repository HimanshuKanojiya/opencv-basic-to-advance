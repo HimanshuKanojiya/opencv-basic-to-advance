{
 "cells": [
  {
   "cell_type": "code",
   "execution_count": 1,
   "metadata": {},
   "outputs": [],
   "source": [
    "#Importing required libraries\n",
    "import cv2\n",
    "import numpy as np"
   ]
  },
  {
   "cell_type": "markdown",
   "metadata": {},
   "source": [
    "### To load/Open images in Opencv\n",
    "* Note: Instead of RGB format, opencv reads images in BGR (blue green red) format.\n",
    "* Imread function, by default reads images in color format\n",
    "* In case, you want to read image in different format, then you need to pass flag argument as second parameter of imread function"
   ]
  },
  {
   "cell_type": "code",
   "execution_count": 2,
   "metadata": {},
   "outputs": [],
   "source": [
    "image = cv2.imread(\"resources/red-omen-wallpaper.jpg\")\n",
    "cv2.imshow(\"Image Load\", image) #It will create a GUI window named Image Load, and show the specified image 'image'\n",
    "\n",
    "#cv2.waitkey(milisecond), if 0 use, then screen will be hold on screen until you press something, or close it manually. You can also specify\n",
    "#time in milisecond for holding.\n",
    "cv2.waitKey(0)\n",
    "\n",
    "cv2.destroyAllWindows() #Once above function execute, then it will be called, and it is for destroying and deleting the GUI window from screen"
   ]
  },
  {
   "cell_type": "code",
   "execution_count": 3,
   "metadata": {},
   "outputs": [
    {
     "name": "stdout",
     "output_type": "stream",
     "text": [
      "['IMREAD_ANYCOLOR', 'IMREAD_ANYDEPTH', 'IMREAD_COLOR', 'IMREAD_GRAYSCALE', 'IMREAD_IGNORE_ORIENTATION', 'IMREAD_LOAD_GDAL', 'IMREAD_REDUCED_COLOR_2', 'IMREAD_REDUCED_COLOR_4', 'IMREAD_REDUCED_COLOR_8', 'IMREAD_REDUCED_GRAYSCALE_2', 'IMREAD_REDUCED_GRAYSCALE_4', 'IMREAD_REDUCED_GRAYSCALE_8', 'IMREAD_UNCHANGED']\n"
     ]
    }
   ],
   "source": [
    "#Available flags in OpenCV\n",
    "readflags = [i for i in vars(cv2) if \"IMREAD\" in i] #list comphrension method to create a list of flags\n",
    "\n",
    "print(readflags)"
   ]
  },
  {
   "cell_type": "code",
   "execution_count": 4,
   "metadata": {},
   "outputs": [],
   "source": [
    "#Example to read image in B/W format\n",
    "image = cv2.imread(\"resources/red-omen-wallpaper.jpg\", cv2.IMREAD_GRAYSCALE)\n",
    "cv2.imshow(\"Image Load\", image) #It will create a GUI window named Image Load, and show the specified image 'image'\n",
    "cv2.waitKey(0) #It will hold the GUI window until you close it manually\n",
    "cv2.destroyAllWindows()"
   ]
  },
  {
   "cell_type": "markdown",
   "metadata": {},
   "source": [
    "### To save image in OpenCV\n",
    "* To save images using opencv, we need to use cv2.imread function\n",
    "* In cv2.imread function, we need to pass image file name with image extension, and it should be in the string format\n",
    "* And in argument, we need to pass the image array which we want to save in the memory."
   ]
  },
  {
   "cell_type": "code",
   "execution_count": 5,
   "metadata": {},
   "outputs": [
    {
     "data": {
      "text/plain": [
       "True"
      ]
     },
     "execution_count": 5,
     "metadata": {},
     "output_type": "execute_result"
    }
   ],
   "source": [
    "image = cv2.imread(\"resources/red-omen-wallpaper.jpg\", cv2.IMREAD_GRAYSCALE)\n",
    "cv2.imwrite(\"black&white-image.jpg\", image)"
   ]
  },
  {
   "cell_type": "markdown",
   "metadata": {},
   "source": [
    "### Resizing an Image\n",
    "* In Resizing function, we need to pass image array (which we want to resize) as an first argument.\n",
    "* In second argument, we need to pass the size which we want to apply for resizing (width, height)\n",
    "* In third argument (optional), but necessary for specifying the shrinking way."
   ]
  },
  {
   "cell_type": "code",
   "execution_count": 6,
   "metadata": {},
   "outputs": [
    {
     "name": "stdout",
     "output_type": "stream",
     "text": [
      "Properties of an Image before changing, Height: 1080, Width: 1920\n",
      "Properties of an Image After changing, Height: 300, Width: 600\n"
     ]
    }
   ],
   "source": [
    "image = cv2.imread(\"resources/red-omen-wallpaper.jpg\")\n",
    "print(f\"Properties of an Image before changing, Height: {image.shape[0]}, Width: {image.shape[1]}\") #To get the image shape/properties\n",
    "image = cv2.resize(image, (600,300), interpolation = cv2.INTER_AREA)\n",
    "print(f\"Properties of an Image After changing, Height: {image.shape[0]}, Width: {image.shape[1]}\") "
   ]
  },
  {
   "cell_type": "code",
   "execution_count": 7,
   "metadata": {},
   "outputs": [
    {
     "name": "stdout",
     "output_type": "stream",
     "text": [
      "['INTER_AREA', 'INTER_BITS', 'INTER_BITS2', 'INTER_CUBIC', 'INTER_LANCZOS4', 'INTER_LINEAR', 'INTER_LINEAR_EXACT', 'INTER_MAX', 'INTER_NEAREST', 'INTER_TAB_SIZE', 'INTER_TAB_SIZE2']\n"
     ]
    }
   ],
   "source": [
    "#Available interpolation options:\n",
    "\n",
    "interpolation = [i for i in vars(cv2) if \"INTER_\" in i]\n",
    "\n",
    "print(interpolation)"
   ]
  },
  {
   "cell_type": "markdown",
   "metadata": {},
   "source": [
    "### Rotating Image\n",
    "**In order to rotate image, we need to perform couple of things:**\n",
    "- We need to take out width, and height first\n",
    "- then we need to calculate the centre of an image for rotating an image\n",
    "- Now, we need to create rotation matrix to rotate an image\n",
    "  - first parameter will be an image centre from where image will be rotated, you can also specify other x,y point for rotating image from there\n",
    "  - second paramter is an angle\n",
    "  - third argument will be scale factor (image scalling factor), to keep original scale of image, use 1.0\n",
    "- After getting rotation matrix, we will use that in warpAffine to rotate an image\n",
    "  - first argument will be an image which we want to rotate\n",
    "  - second argument will be rotation matrix\n",
    "  - third argument will be rotation matrix image size"
   ]
  },
  {
   "cell_type": "code",
   "execution_count": 8,
   "metadata": {},
   "outputs": [],
   "source": [
    "image = cv2.imread(\"resources/red-omen-wallpaper.jpg\")\n",
    "\n",
    "#Taking image height and width\n",
    "height, width = image.shape[0], image.shape[1]\n",
    "\n",
    "#computing the centre portion of an image, so that we can rotate image from centre\n",
    "cH, cW = height//2, width//2\n",
    "\n",
    "#getting rotation matrix to rotate the image,\n",
    "M = cv2.getRotationMatrix2D((cH, cW), 50, 1.0)\n",
    "\n",
    "#Now performing rotation image using warpaffine, \n",
    "rotate = cv2.warpAffine(image, M, (width, height))\n",
    "\n",
    "cv2.imshow(\"Original Image\", image)\n",
    "cv2.imshow(\"Rotate Image\", rotate)\n",
    "\n",
    "cv2.waitKey()\n",
    "cv2.destroyAllWindows()"
   ]
  },
  {
   "cell_type": "markdown",
   "metadata": {},
   "source": [
    "While performing rotation of an image using above method, you will encounter that some part of an image has cropped out. To fix that issue, we will do some changes in our code, let's checkout"
   ]
  },
  {
   "cell_type": "code",
   "execution_count": 9,
   "metadata": {},
   "outputs": [],
   "source": [
    "image = cv2.imread(\"resources/red-omen-wallpaper.jpg\")\n",
    "\n",
    "#Taking image height and width\n",
    "height, width = image.shape[0], image.shape[1]\n",
    "\n",
    "#computing the centre portion of an image, so that we can rotate image from centre\n",
    "cH, cW = height//2, width//2\n",
    "\n",
    "#getting rotation matrix to rotate the image, in this function, \n",
    "#we will pass an angle in negative to rotae it in clockwise\n",
    "M = cv2.getRotationMatrix2D((cW, cH), 50, 1.0)\n",
    "\n",
    "#Now take sin and cos from M\n",
    "cos = np.abs(M[0,0])\n",
    "sin = np.abs(M[0,1])\n",
    "\n",
    "#Now need to compute new Bounding to use it warpAffine\n",
    "newWidth = int((height * sin) + (width * cos))\n",
    "newHeight = int((height * cos) + (width * sin))\n",
    "\n",
    "#Now need to perform changes in rotation matrix\n",
    "M[0,2] += (newWidth/2) - cW\n",
    "M[1,2] += (newHeight/2) - cH\n",
    "\n",
    "#Now performing rotation image using warpaffine, \n",
    "rotate = cv2.warpAffine(image, M, (newWidth, newHeight))\n",
    "\n",
    "cv2.imshow(\"Original Image\", image)\n",
    "cv2.imshow(\"AFter Rotation\", rotate)\n",
    "\n",
    "cv2.waitKey()\n",
    "cv2.destroyAllWindows()"
   ]
  },
  {
   "cell_type": "markdown",
   "metadata": {},
   "source": [
    "### Cropping an Image\n",
    "- To crop an image, we need to pass some parameters in image array indices\n",
    "- Syntax: imageArray[starting of y : starting of x, ending of y : ending of x]"
   ]
  },
  {
   "cell_type": "code",
   "execution_count": 43,
   "metadata": {},
   "outputs": [],
   "source": [
    "image = cv2.imread(\"resources/red-omen-wallpaper.jpg\")\n",
    "cropImage = image[400:750, 700:1250]\n",
    "\n",
    "cv2.imshow(\"Original Image\", image)\n",
    "cv2.imshow(\"After Cropping\", cropImage)\n",
    "\n",
    "cv2.waitKey(0)\n",
    "cv2.destroyAllWindows()"
   ]
  },
  {
   "cell_type": "markdown",
   "metadata": {},
   "source": [
    "To know, how i got x and y for cropping image, read my article at https://www.linkedin.com/pulse/opencv-python-tutorial-beginners-part-3-himanshu-kanojiya/"
   ]
  },
  {
   "cell_type": "code",
   "execution_count": null,
   "metadata": {},
   "outputs": [],
   "source": []
  },
  {
   "cell_type": "code",
   "execution_count": null,
   "metadata": {},
   "outputs": [],
   "source": []
  },
  {
   "cell_type": "code",
   "execution_count": null,
   "metadata": {},
   "outputs": [],
   "source": []
  }
 ],
 "metadata": {
  "kernelspec": {
   "display_name": "Python 3",
   "language": "python",
   "name": "python3"
  },
  "language_info": {
   "codemirror_mode": {
    "name": "ipython",
    "version": 3
   },
   "file_extension": ".py",
   "mimetype": "text/x-python",
   "name": "python",
   "nbconvert_exporter": "python",
   "pygments_lexer": "ipython3",
   "version": "3.7.5"
  }
 },
 "nbformat": 4,
 "nbformat_minor": 4
}
