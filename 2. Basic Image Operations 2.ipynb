{
 "cells": [
  {
   "cell_type": "code",
   "execution_count": 1,
   "metadata": {},
   "outputs": [],
   "source": [
    "#importing required libraries\n",
    "import cv2\n",
    "import numpy as np"
   ]
  },
  {
   "cell_type": "markdown",
   "metadata": {},
   "source": [
    "### Converting ColorSpace to Another\n",
    "- OpenCV reads image in BGR format\n",
    "- To change original color space to another (from RGB to GRAY), we use cv2.cvtColor function\n",
    "- In cv2.cvtColor function, we pass image array as first parameter/argument, and pass the color code instance as second parameter/argument\n",
    "- In second paramter, we pass the color code which we want to apply on an image\n",
    "- Example:\n",
    "  - If you want to convert color from BGR to GRAY, then you need to give cv2.COLOR_BGR2GRAY   \n",
    "- Note: While using color code, ensure that characters before 2 should be your current color format"
   ]
  },
  {
   "cell_type": "code",
   "execution_count": 2,
   "metadata": {},
   "outputs": [],
   "source": [
    "image = cv2.imread(\"resources/red-omen-wallpaper.jpg\") #read an image from disk\n",
    "blackWhite = cv2.cvtColor(image, cv2.COLOR_BGR2GRAY) #function to convert color space to another\n",
    "cv2.imshow(\"Original Image\", image) #Creating GUI window named \"Orignal Image\" to display Original Image\n",
    "cv2.imshow(\"Black & White\", blackWhite) #Creating GUI window named \"Black & White\" to display converted image\n",
    "cv2.waitKey(0) #To hold the GUI window until user close the GUI window\n",
    "cv2.destroyAllWindows() #Once user close the GUI window, this function will be used to destroy and remove GUI window from screen"
   ]
  },
  {
   "cell_type": "code",
   "execution_count": 3,
   "metadata": {},
   "outputs": [
    {
     "name": "stdout",
     "output_type": "stream",
     "text": [
      "['COLOR_BAYER_BG2BGR', 'COLOR_BAYER_BG2BGRA', 'COLOR_BAYER_BG2BGR_EA', 'COLOR_BAYER_BG2BGR_VNG', 'COLOR_BAYER_BG2GRAY', 'COLOR_BAYER_BG2RGB', 'COLOR_BAYER_BG2RGBA', 'COLOR_BAYER_BG2RGB_EA', 'COLOR_BAYER_BG2RGB_VNG', 'COLOR_BAYER_GB2BGR', 'COLOR_BAYER_GB2BGRA', 'COLOR_BAYER_GB2BGR_EA', 'COLOR_BAYER_GB2BGR_VNG', 'COLOR_BAYER_GB2GRAY', 'COLOR_BAYER_GB2RGB', 'COLOR_BAYER_GB2RGBA', 'COLOR_BAYER_GB2RGB_EA', 'COLOR_BAYER_GB2RGB_VNG', 'COLOR_BAYER_GR2BGR', 'COLOR_BAYER_GR2BGRA', 'COLOR_BAYER_GR2BGR_EA', 'COLOR_BAYER_GR2BGR_VNG', 'COLOR_BAYER_GR2GRAY', 'COLOR_BAYER_GR2RGB', 'COLOR_BAYER_GR2RGBA', 'COLOR_BAYER_GR2RGB_EA', 'COLOR_BAYER_GR2RGB_VNG', 'COLOR_BAYER_RG2BGR', 'COLOR_BAYER_RG2BGRA', 'COLOR_BAYER_RG2BGR_EA', 'COLOR_BAYER_RG2BGR_VNG', 'COLOR_BAYER_RG2GRAY', 'COLOR_BAYER_RG2RGB', 'COLOR_BAYER_RG2RGBA', 'COLOR_BAYER_RG2RGB_EA', 'COLOR_BAYER_RG2RGB_VNG']\n"
     ]
    }
   ],
   "source": [
    "#All Available color spaces in OpenCV\n",
    "\n",
    "colorSpaces = [i for i in vars(cv2) if \"COLOR_BAYER\" in i]\n",
    "\n",
    "print(colorSpaces)"
   ]
  },
  {
   "cell_type": "markdown",
   "metadata": {},
   "source": [
    "### Creating Custom GUI window\n",
    "- If you want to create window which can be resized manually, autosize, or fullscreen, then this cv2.namedWindow is useful for you\n",
    "- To use this, you need to use cv2.namedWindow with two parameters:\n",
    "  - first paramter is window name (it will be used with imshow function)\n",
    "  - second paramter is window flag, which is for setting window property (for setting window fullscreen, freeratio/resizing manually)\n",
    "- cv2.WINDOW_FREERATIO: this flag allow you to resize window manually, and fit to screen and window.\n",
    "- cv2.WINDOW_FULLSCREEN: this flag sets window to fullscreen, can't resize it and not fit to screen and window.\n",
    "- cv2.WINDOW_NORMAL: Same as freeratio, did not find major any difference.\n",
    "- cv2.WINDOW_OPENGL: To use this, must have OpenGL support"
   ]
  },
  {
   "cell_type": "code",
   "execution_count": 4,
   "metadata": {},
   "outputs": [],
   "source": [
    "image = cv2.imread(\"resources/red-omen-wallpaper.jpg\") #read an image from disk\n",
    "cv2.namedWindow(\"Custom GUI Window\", cv2.WINDOW_FREERATIO) #function for creating GUI window with desired window flag\n",
    "cv2.imshow(\"Custom GUI Window\", image) #Display image using created window named \"Custom GUI Window\"\n",
    "cv2.waitKey(0) #To hold the GUI window until user close the GUI window\n",
    "cv2.destroyAllWindows() #Once user close the GUI window, this function will be used to destroy and remove GUI window from screen"
   ]
  },
  {
   "cell_type": "code",
   "execution_count": 5,
   "metadata": {},
   "outputs": [
    {
     "name": "stdout",
     "output_type": "stream",
     "text": [
      "['WINDOW_AUTOSIZE', 'WINDOW_FREERATIO', 'WINDOW_FULLSCREEN', 'WINDOW_GUI_EXPANDED', 'WINDOW_GUI_NORMAL', 'WINDOW_KEEPRATIO', 'WINDOW_NORMAL', 'WINDOW_OPENGL']\n"
     ]
    }
   ],
   "source": [
    "#All available windows floag\n",
    "\n",
    "windowFlags = [i for i in vars(cv2) if \"WINDOW_\" in i]\n",
    "\n",
    "print(windowFlags)"
   ]
  },
  {
   "cell_type": "markdown",
   "metadata": {},
   "source": [
    "### Closing window for specific input\n",
    "- If you want to close GUI window for specific window, then we can use cv2.waitkey function with condition check\n",
    "- cv2.waitKey also returns the input (will be in unicode format)\n",
    "- Need to use ord() (function to convert one character string to unicode) along with cv2.waitKey"
   ]
  },
  {
   "cell_type": "code",
   "execution_count": 6,
   "metadata": {},
   "outputs": [],
   "source": [
    "image = cv2.imread(\"resources/red-omen-wallpaper.jpg\") #read an image from disk\n",
    "\n",
    "while True: #Loop will continously running and keep GUI window on screen until cv2.waitKey detected the pressed \"q\" key\n",
    "    \n",
    "    cv2.imshow(\"Original Image\", image) #Creating GUI window to display image on screen\n",
    "    \n",
    "    if cv2.waitKey(0) == ord(\"q\"): #continously checking keys, once pressed \"q\" detects, loop will break\n",
    "        break #terminate the loop\n",
    "    \n",
    "cv2.destroyAllWindows() #Once user close the GUI window, this function will be used to destroy and remove GUI window from screen"
   ]
  },
  {
   "cell_type": "markdown",
   "metadata": {},
   "source": [
    "### Accessing individual Pixel ColorSpace Value\n",
    "- If you want to access specific individual color value, then you can do that via image_array[y,x]\n",
    "- Note, For color returns (B,G,R), and for grayscale only one intensity returns which represent shade"
   ]
  },
  {
   "cell_type": "code",
   "execution_count": 7,
   "metadata": {},
   "outputs": [
    {
     "name": "stdout",
     "output_type": "stream",
     "text": [
      "Blue: 24, Green: 24, Red: 24\n"
     ]
    }
   ],
   "source": [
    "image = cv2.imread(\"resources/red-omen-wallpaper.jpg\") #read an image from disk\n",
    "(b,g,r) = image[100,100] #accessing individual value, [y,x]\n",
    "print(f\"Blue: {b}, Green: {g}, Red: {r}\")"
   ]
  },
  {
   "cell_type": "code",
   "execution_count": null,
   "metadata": {},
   "outputs": [],
   "source": []
  },
  {
   "cell_type": "code",
   "execution_count": null,
   "metadata": {},
   "outputs": [],
   "source": []
  }
 ],
 "metadata": {
  "kernelspec": {
   "display_name": "Python 3",
   "language": "python",
   "name": "python3"
  },
  "language_info": {
   "codemirror_mode": {
    "name": "ipython",
    "version": 3
   },
   "file_extension": ".py",
   "mimetype": "text/x-python",
   "name": "python",
   "nbconvert_exporter": "python",
   "pygments_lexer": "ipython3",
   "version": "3.7.5"
  }
 },
 "nbformat": 4,
 "nbformat_minor": 4
}
